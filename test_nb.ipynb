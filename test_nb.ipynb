{
 "cells": [
  {
   "cell_type": "code",
   "execution_count": 1,
   "id": "f8f896b4-8953-45f7-b82d-f2bfc8364873",
   "metadata": {},
   "outputs": [
    {
     "name": "stdout",
     "output_type": "stream",
     "text": [
      "This is a test notebook\n"
     ]
    }
   ],
   "source": [
    "print('This is a test notebook')"
   ]
  },
  {
   "cell_type": "code",
   "execution_count": 2,
   "id": "fde786a7-fa4b-4d84-b392-2a61613dfee3",
   "metadata": {},
   "outputs": [
    {
     "name": "stdout",
     "output_type": "stream",
     "text": [
      "First commit!\n"
     ]
    }
   ],
   "source": [
    "print('First commit!')"
   ]
  },
  {
   "cell_type": "code",
   "execution_count": null,
   "id": "246af791-6b02-4247-b6b9-5611ec24488a",
   "metadata": {},
   "outputs": [],
   "source": []
  }
 ],
 "metadata": {
  "kernelspec": {
   "display_name": "Python 3 (ipykernel)",
   "language": "python",
   "name": "python3"
  },
  "language_info": {
   "codemirror_mode": {
    "name": "ipython",
    "version": 3
   },
   "file_extension": ".py",
   "mimetype": "text/x-python",
   "name": "python",
   "nbconvert_exporter": "python",
   "pygments_lexer": "ipython3",
   "version": "3.11.8"
  }
 },
 "nbformat": 4,
 "nbformat_minor": 5
}
